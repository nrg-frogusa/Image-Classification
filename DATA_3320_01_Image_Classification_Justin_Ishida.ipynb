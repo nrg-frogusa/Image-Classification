{
  "nbformat": 4,
  "nbformat_minor": 0,
  "metadata": {
    "colab": {
      "provenance": []
    },
    "kernelspec": {
      "name": "python3",
      "display_name": "Python 3"
    },
    "language_info": {
      "name": "python"
    }
  },
  "cells": [
    {
      "cell_type": "markdown",
      "source": [
        "#Introduction"
      ],
      "metadata": {
        "id": "lxU9xSsxpLI5"
      }
    },
    {
      "cell_type": "markdown",
      "source": [
        "The purpose of this notebook is to develop an image classification algorithm that classifies images into one of at least two categories."
      ],
      "metadata": {
        "id": "fO5bK51mpQph"
      }
    },
    {
      "cell_type": "markdown",
      "source": [
        "#The Data"
      ],
      "metadata": {
        "id": "a02uOEfOpa2I"
      }
    },
    {
      "cell_type": "markdown",
      "source": [
        "The dataset used will be the MNIST that contains handwritten digits from 1 - 9. The link to the data can be found here: https://www.kaggle.com/datasets/hojjatk/mnist-dataset\n"
      ],
      "metadata": {
        "id": "GYrR5pOipclg"
      }
    },
    {
      "cell_type": "markdown",
      "source": [
        "Import all necessary packages for the analysis."
      ],
      "metadata": {
        "id": "7Vd7kWIcpxvk"
      }
    },
    {
      "cell_type": "code",
      "source": [
        "!pip install keras_tuner"
      ],
      "metadata": {
        "colab": {
          "base_uri": "https://localhost:8080/"
        },
        "id": "X8gJMUdhS5BH",
        "outputId": "b3e102c8-9ac7-4aab-e491-14325a0a239c"
      },
      "execution_count": 51,
      "outputs": [
        {
          "output_type": "stream",
          "name": "stdout",
          "text": [
            "Requirement already satisfied: keras_tuner in /usr/local/lib/python3.10/dist-packages (1.4.7)\n",
            "Requirement already satisfied: keras in /usr/local/lib/python3.10/dist-packages (from keras_tuner) (2.15.0)\n",
            "Requirement already satisfied: packaging in /usr/local/lib/python3.10/dist-packages (from keras_tuner) (24.0)\n",
            "Requirement already satisfied: requests in /usr/local/lib/python3.10/dist-packages (from keras_tuner) (2.31.0)\n",
            "Requirement already satisfied: kt-legacy in /usr/local/lib/python3.10/dist-packages (from keras_tuner) (1.0.5)\n",
            "Requirement already satisfied: charset-normalizer<4,>=2 in /usr/local/lib/python3.10/dist-packages (from requests->keras_tuner) (3.3.2)\n",
            "Requirement already satisfied: idna<4,>=2.5 in /usr/local/lib/python3.10/dist-packages (from requests->keras_tuner) (3.7)\n",
            "Requirement already satisfied: urllib3<3,>=1.21.1 in /usr/local/lib/python3.10/dist-packages (from requests->keras_tuner) (2.0.7)\n",
            "Requirement already satisfied: certifi>=2017.4.17 in /usr/local/lib/python3.10/dist-packages (from requests->keras_tuner) (2024.6.2)\n"
          ]
        }
      ]
    },
    {
      "cell_type": "code",
      "source": [
        "# Import all necessary packages for the analysis.\n",
        "import keras\n",
        "from keras.datasets import mnist\n",
        "import keras_tuner\n",
        "from keras import layers\n",
        "from keras import layers, regularizers\n",
        "from keras.optimizers.legacy import Adam\n",
        "from keras.callbacks import EarlyStopping, TensorBoard\n",
        "import json\n",
        "from sklearn.metrics import confusion_matrix\n",
        "from tensorflow import data as tf_data\n",
        "import tensorflow_datasets as tfds\n",
        "import numpy as np\n",
        "from array import array\n",
        "from os.path  import join\n",
        "from sklearn.linear_model import LogisticRegression\n",
        "%matplotlib inline\n",
        "import random\n",
        "import matplotlib.pyplot as plt\n",
        "\n",
        "from google.colab import drive\n",
        "drive.mount('/content/drive')\n"
      ],
      "metadata": {
        "id": "r7nYTt6rtSTq",
        "colab": {
          "base_uri": "https://localhost:8080/"
        },
        "outputId": "0b03f68b-d769-4a52-d52e-643dbea71148"
      },
      "execution_count": 52,
      "outputs": [
        {
          "output_type": "stream",
          "name": "stdout",
          "text": [
            "Drive already mounted at /content/drive; to attempt to forcibly remount, call drive.mount(\"/content/drive\", force_remount=True).\n"
          ]
        }
      ]
    },
    {
      "cell_type": "markdown",
      "source": [
        "Load the dataset from the Keras package."
      ],
      "metadata": {
        "id": "LYRaoEjQqMKu"
      }
    },
    {
      "cell_type": "code",
      "source": [
        "# Load MINST dataset\n",
        "(x_train, y_train), (x_test, y_test) = mnist.load_data()"
      ],
      "metadata": {
        "id": "Cc8Dg306qFBv"
      },
      "execution_count": 53,
      "outputs": []
    },
    {
      "cell_type": "markdown",
      "source": [
        "Create a fuction that will examine and show some of the contents/pictures we're working with."
      ],
      "metadata": {
        "id": "1YqU5jeHqS9H"
      }
    },
    {
      "cell_type": "code",
      "source": [
        "# Function to show a list of images with their relating titles so we can examine the contents of the dataset.\n",
        "def show_images(images, title_texts):\n",
        "    cols = 5\n",
        "    rows = int(len(images)/cols) + 1\n",
        "    plt.figure(figsize=(30,20))\n",
        "    index = 1\n",
        "    for x in zip(images, title_texts):\n",
        "        image = x[0]\n",
        "        title_text = x[1]\n",
        "        plt.subplot(rows, cols, index)\n",
        "        plt.imshow(image, cmap=plt.cm.gray)\n",
        "        if (title_text != ''):\n",
        "            plt.title(title_text, fontsize = 15);\n",
        "        index += 1\n",
        "\n",
        "# Use the fuction to show some random training and test images\n",
        "images_2_show = []\n",
        "titles_2_show = []\n",
        "for i in range(0, 10):\n",
        "    r = random.randint(1, 60000)\n",
        "    images_2_show.append(x_train[r])\n",
        "    titles_2_show.append('training image [' + str(r) + '] = ' + str(y_train[r]))\n",
        "\n",
        "for i in range(0, 5):\n",
        "    r = random.randint(1, 10000)\n",
        "    images_2_show.append(x_test[r])\n",
        "    titles_2_show.append('test image [' + str(r) + '] = ' + str(y_test[r]))\n",
        "\n",
        "show_images(images_2_show, titles_2_show)"
      ],
      "metadata": {
        "colab": {
          "base_uri": "https://localhost:8080/",
          "height": 727
        },
        "id": "KLZ3QWxwtWYr",
        "outputId": "99000b48-f04c-4253-a94f-040858dfe71f"
      },
      "execution_count": 54,
      "outputs": [
        {
          "output_type": "display_data",
          "data": {
            "text/plain": [
              "<Figure size 3000x2000 with 15 Axes>"
            ],
            "image/png": "[encoded data removed]"
          },
          "metadata": {}
        }
      ]
    },
    {
      "cell_type": "markdown",
      "source": [
        "Examine the shape of the dataset and convert all the pictures to a 1D array."
      ],
      "metadata": {
        "id": "r4R_9SQmm2Qv"
      }
    },
    {
      "cell_type": "code",
      "source": [
        "x_train.shape"
      ],
      "metadata": {
        "colab": {
          "base_uri": "https://localhost:8080/"
        },
        "id": "auEYq6qJY3hf",
        "outputId": "7e5e7f4b-e763-4ceb-e674-e7e376d98467"
      },
      "execution_count": 55,
      "outputs": [
        {
          "output_type": "execute_result",
          "data": {
            "text/plain": [
              "(60000, 28, 28)"
            ]
          },
          "metadata": {},
          "execution_count": 55
        }
      ]
    },
    {
      "cell_type": "code",
      "source": [
        "x_train = x_train.reshape(x_train.shape[0], -1)\n",
        "x_train.shape"
      ],
      "metadata": {
        "colab": {
          "base_uri": "https://localhost:8080/"
        },
        "id": "1Vf1-KOxs2HP",
        "outputId": "b9e451b3-3b76-4d5b-f32d-d29becdb365a"
      },
      "execution_count": 56,
      "outputs": [
        {
          "output_type": "execute_result",
          "data": {
            "text/plain": [
              "(60000, 784)"
            ]
          },
          "metadata": {},
          "execution_count": 56
        }
      ]
    },
    {
      "cell_type": "code",
      "source": [
        "x_test = x_test.reshape(x_test.shape[0], -1)\n",
        "x_test.shape"
      ],
      "metadata": {
        "colab": {
          "base_uri": "https://localhost:8080/"
        },
        "id": "ZmGv_8OwtBg_",
        "outputId": "fb479688-8fd4-43e6-9c8b-7b6525f26882"
      },
      "execution_count": 57,
      "outputs": [
        {
          "output_type": "execute_result",
          "data": {
            "text/plain": [
              "(10000, 784)"
            ]
          },
          "metadata": {},
          "execution_count": 57
        }
      ]
    },
    {
      "cell_type": "markdown",
      "source": [
        "Divide all pixels by the max pixel magnitude 255, so that all values are between 0 and 1 for normalization purposes."
      ],
      "metadata": {
        "id": "RCC7RFr9pHC-"
      }
    },
    {
      "cell_type": "code",
      "execution_count": 58,
      "metadata": {
        "id": "6ge5zszCDKmm"
      },
      "outputs": [],
      "source": [
        "X_train_norm = x_train / 255\n",
        "X_test_norm = x_test / 255"
      ]
    },
    {
      "cell_type": "markdown",
      "source": [
        "Now let's train a classifyer using logistic regression for our neural network."
      ],
      "metadata": {
        "id": "HgYEjR-29mC9"
      }
    },
    {
      "cell_type": "markdown",
      "source": [
        "Now we'll create the neural network.\n",
        "\n",
        "First, we'll create a function that creates the neural network for future use and gives some architecture to our model."
      ],
      "metadata": {
        "id": "j6YvDWLy-XXi"
      }
    },
    {
      "cell_type": "code",
      "source": [
        "def create_network(neuron_count, layer_count, activation_function, learning_rate, regularization):\n",
        "    network_layers = [\n",
        "        layers.Dense(neuron_count, activation=activation_function, kernel_regularizer=regularizers.L2(l2=regularization), kernel_initializer=keras.initializers.HeNormal())\n",
        "        ] * layer_count\n",
        "    network_layers += [layers.Dense(10)]\n",
        "    network = keras.Sequential(network_layers)\n",
        "    network.compile(loss=keras.losses.SparseCategoricalCrossentropy(from_logits=True), metrics=['accuracy'], optimizer=Adam(learning_rate=learning_rate))\n",
        "\n",
        "    return network"
      ],
      "metadata": {
        "id": "c7w1OoGT-Z0Z"
      },
      "execution_count": 62,
      "outputs": []
    },
    {
      "cell_type": "markdown",
      "source": [
        "Next, we'll create a function that constructs the neural network."
      ],
      "metadata": {
        "id": "UevSO6sC_LPX"
      }
    },
    {
      "cell_type": "code",
      "source": [
        "def construct_network(hp):\n",
        "    neuron_count = hp.Choice(\"neuron_count\", [256, 512])\n",
        "    activation_function = \"relu\"\n",
        "    learning_rate = hp.Float(\"learning_rate\", min_value=1e-5, max_value=1e-1, sampling=\"log\")\n",
        "    regularization = hp.Float(\"regularization\", min_value=1e-5, max_value=1e-1, sampling=\"log\")\n",
        "    layer_count = hp.Choice(\"layer_count\", [2, 3, 4])\n",
        "\n",
        "    network = create_network(neuron_count=neuron_count, layer_count=layer_count, activation_function=activation_function, learning_rate=learning_rate, regularization=regularization)\n",
        "    return network\n"
      ],
      "metadata": {
        "id": "A0O3r6uw_Paj"
      },
      "execution_count": 63,
      "outputs": []
    },
    {
      "cell_type": "markdown",
      "source": [
        "Now, we'll deploy the keras tuner/optimizer using Bayesian optimization to find the best hyperparameters and model without overwriting if it finds a better model and storing that in Drive."
      ],
      "metadata": {
        "id": "bl-g7dzKDiA3"
      }
    },
    {
      "cell_type": "code",
      "source": [
        "optimizer = keras_tuner.BayesianOptimization(\n",
        "    hypermodel=construct_network,\n",
        "    objective=\"val_loss\",\n",
        "    max_trials=8,\n",
        "    executions_per_trial=1,\n",
        "    overwrite=False,\n",
        "    directory=\"/content/drive/MyDrive/optimizer location\",\n",
        ")"
      ],
      "metadata": {
        "id": "37hlQ_hpDy9t"
      },
      "execution_count": 64,
      "outputs": []
    },
    {
      "cell_type": "markdown",
      "source": [
        "In this code, callback_list is a list of callbacks to be used during training. It contains an EarlyStopping callback, which stops training when a monitored quantity has stopped improving. The monitor argument is set to \"val_loss\", which means that the callback will monitor the validation loss during training. The patience argument is set to 2, which means that training will be stopped if the validation loss does not improve for 2 epochs. The restore_best_weights argument is set to True, which means that the model weights from the epoch with the best value of the monitored quantity will be restored when training is stopped. The start_from_epoch argument is set to 4, which means that the callback will start monitoring the validation loss from the 4th epoch"
      ],
      "metadata": {
        "id": "c7WRd5vaJLSO"
      }
    },
    {
      "cell_type": "code",
      "source": [
        "callback_list = [EarlyStopping(monitor=\"val_loss\", patience=2, restore_best_weights=True, start_from_epoch=4)]"
      ],
      "metadata": {
        "id": "8G1n_lAHJNRG"
      },
      "execution_count": 65,
      "outputs": []
    },
    {
      "cell_type": "markdown",
      "source": [
        "Apply the dataset to our optimizer to find which models are the most accurate and best for our use."
      ],
      "metadata": {
        "id": "qS7M1earJWgX"
      }
    },
    {
      "cell_type": "code",
      "source": [
        "optimizer.search(\n",
        "    X_train_norm,\n",
        "    y_train,\n",
        "    epochs=8,\n",
        "    verbose=1,\n",
        "    validation_data=(X_test_norm, y_test),\n",
        "    callbacks=callback_list\n",
        ")"
      ],
      "metadata": {
        "colab": {
          "base_uri": "https://localhost:8080/"
        },
        "id": "lumRKORvJRaN",
        "outputId": "db109247-5263-4932-ae50-16a16c7c5801"
      },
      "execution_count": 66,
      "outputs": [
        {
          "output_type": "stream",
          "name": "stdout",
          "text": [
            "Trial 8 Complete [00h 01m 40s]\n",
            "val_loss: 0.13788418471813202\n",
            "\n",
            "Best val_loss So Far: 0.13788418471813202\n",
            "Total elapsed time: 00h 12m 09s\n"
          ]
        }
      ]
    },
    {
      "cell_type": "markdown",
      "source": [
        "Let's get a summary of the optimizer's results."
      ],
      "metadata": {
        "id": "-0jMeeGjKygD"
      }
    },
    {
      "cell_type": "code",
      "source": [
        "optimizer.results_summary(5)"
      ],
      "metadata": {
        "colab": {
          "base_uri": "https://localhost:8080/"
        },
        "id": "HuQ6ECo-KPXz",
        "outputId": "e551245f-917d-4365-df87-934c20d88cf4"
      },
      "execution_count": 67,
      "outputs": [
        {
          "output_type": "stream",
          "name": "stdout",
          "text": [
            "Results summary\n",
            "Results in /content/drive/MyDrive/optimizer location/untitled_project\n",
            "Showing 5 best trials\n",
            "Objective(name=\"val_loss\", direction=\"min\")\n",
            "\n",
            "Trial 7 summary\n",
            "Hyperparameters:\n",
            "neuron_count: 512\n",
            "learning_rate: 0.0014269543515140514\n",
            "regularization: 0.00013914977168063723\n",
            "layer_count: 3\n",
            "Score: 0.13788418471813202\n",
            "\n",
            "Trial 0 summary\n",
            "Hyperparameters:\n",
            "neuron_count: 256\n",
            "learning_rate: 0.003720740089086915\n",
            "regularization: 3.3538431145135276e-05\n",
            "layer_count: 4\n",
            "Score: 0.1489248275756836\n",
            "\n",
            "Trial 2 summary\n",
            "Hyperparameters:\n",
            "neuron_count: 512\n",
            "learning_rate: 5.705006003887509e-05\n",
            "regularization: 0.001618219539754055\n",
            "layer_count: 2\n",
            "Score: 0.25418591499328613\n",
            "\n",
            "Trial 6 summary\n",
            "Hyperparameters:\n",
            "neuron_count: 256\n",
            "learning_rate: 0.019078573702196188\n",
            "regularization: 0.00010014595743437287\n",
            "layer_count: 4\n",
            "Score: 0.36346110701560974\n",
            "\n",
            "Trial 4 summary\n",
            "Hyperparameters:\n",
            "neuron_count: 512\n",
            "learning_rate: 0.02717039194473118\n",
            "regularization: 2.7060995859680823e-05\n",
            "layer_count: 3\n",
            "Score: 0.4236743152141571\n"
          ]
        }
      ]
    },
    {
      "cell_type": "markdown",
      "source": [
        "Now that we've found which model is the best, we can use the stored optimizer data against this model."
      ],
      "metadata": {
        "id": "QSmWsE7QPIVP"
      }
    },
    {
      "cell_type": "code",
      "source": [
        "trial_index = \"7\"\n",
        "with open(f\"/content/drive/MyDrive/optimizer location/untitled_project/trial_{trial_index}/trial.json\", \"r\") as file:\n",
        "    trial_data = json.load(file)\n",
        "hyperparameters = trial_data[\"hyperparameters\"][\"values\"]\n",
        "network = create_network(neuron_count=hyperparameters[\"neuron_count\"], layer_count=hyperparameters[\"layer_count\"], activation_function=\"relu\", learning_rate=hyperparameters[\"learning_rate\"],\n",
        "                     regularization=hyperparameters[\"regularization\"])\n",
        "network.load_weights(f\"/content/drive/MyDrive/optimizer location/untitled_project/trial_{trial_index}/checkpoint\")\n"
      ],
      "metadata": {
        "colab": {
          "base_uri": "https://localhost:8080/"
        },
        "id": "5lbZo9WqK_Sh",
        "outputId": "ae4db56d-d098-4e22-e0d5-dfab587ebf1f"
      },
      "execution_count": 70,
      "outputs": [
        {
          "output_type": "execute_result",
          "data": {
            "text/plain": [
              "<tensorflow.python.checkpoint.checkpoint.CheckpointLoadStatus at 0x7ac5a0336140>"
            ]
          },
          "metadata": {},
          "execution_count": 70
        }
      ]
    },
    {
      "cell_type": "markdown",
      "source": [
        "In this code, predicted_labels is a numpy array of the predicted labels for the test data. The network.predict method is used to generate the predictions, and np.argmax is used to select the label with the highest probability for each sample. confusion_mat is a confusion matrix that shows the number of correct and incorrect predictions made by the model, broken down by each class. accuracy_score is the accuracy of the model on the test data, calculated as the ratio of the number of correct predictions to the total number of predictions."
      ],
      "metadata": {
        "id": "HNuBcpuhPioJ"
      }
    },
    {
      "cell_type": "code",
      "source": [
        "predicted_labels = np.argmax(network.predict(X_test_norm), axis=1)\n",
        "confusion_mat = confusion_matrix(y_test, predicted_labels)\n",
        "accuracy_score = sum(predicted_labels == y_test) / len(y_test)\n",
        "print(accuracy_score)\n",
        "print(confusion_mat)"
      ],
      "metadata": {
        "colab": {
          "base_uri": "https://localhost:8080/"
        },
        "id": "MKWAyABPMS2d",
        "outputId": "7bca36c8-5748-4f72-ea4a-06bf5dba688a"
      },
      "execution_count": 71,
      "outputs": [
        {
          "output_type": "stream",
          "name": "stdout",
          "text": [
            "313/313 [==============================] - 1s 2ms/step\n",
            "0.9762\n",
            "[[ 967    1    2    0    1    1    5    1    1    1]\n",
            " [   0 1126    2    1    0    0    2    0    4    0]\n",
            " [   4    1 1013    3    1    0    3    5    2    0]\n",
            " [   0    0    8  998    0    0    0    1    2    1]\n",
            " [   1    4    5    1  955    0    5    1    2    8]\n",
            " [   3    0    1   17    1  864    4    0    2    0]\n",
            " [   4    3    1    0    1    4  943    1    0    1]\n",
            " [   1    7   14    7    1    0    0  988    5    5]\n",
            " [   4    1    4    7    1    6    5    3  938    5]\n",
            " [   4    8    0    9    9    5    0    3    1  970]]\n"
          ]
        }
      ]
    },
    {
      "cell_type": "markdown",
      "source": [
        "From looking at the confusion matrix results and accuracy score, we can see that our neural network is quite accurate. The top-left to bottom-right diagonal line across the matrix shows how many predictions/classifications that our network got correct. The other numbers display how many of each number category (1-9) that our network got wrong."
      ],
      "metadata": {
        "id": "bcY7tV9PPm8Y"
      }
    },
    {
      "cell_type": "markdown",
      "source": [
        "#Conclusion"
      ],
      "metadata": {
        "id": "tapUHD92QCQO"
      }
    },
    {
      "cell_type": "markdown",
      "source": [
        "Looking at the matrix, we can see that our neural network had the most trouble identifying and classifying numbers like 5 and 3, 9 and 4, & 7 and 2. However, the network did well in classifying numbers with an accuracy score of 97.62%."
      ],
      "metadata": {
        "id": "z5RjLxqtQD44"
      }
    }
  ]
}